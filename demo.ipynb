{
 "cells": [
  {
   "cell_type": "code",
   "execution_count": 1,
   "id": "c761d03a-1a96-48f0-a72c-c2ae63d317f8",
   "metadata": {},
   "outputs": [
    {
     "name": "stdout",
     "output_type": "stream",
     "text": [
      "env: ANYWIDGET_HMR=1\n"
     ]
    }
   ],
   "source": [
    "%env ANYWIDGET_HMR=1"
   ]
  },
  {
   "cell_type": "code",
   "execution_count": 2,
   "id": "a6d50740-1061-42ff-9fd1-18f234f5cab0",
   "metadata": {},
   "outputs": [],
   "source": [
    "from io import BytesIO\n",
    "import json\n",
    "\n",
    "from eigen_tour import Widget\n",
    "import pathlib\n",
    "import numpy as np\n",
    "import polars as pl\n",
    "import pandas as pd\n",
    "import pyarrow as pa\n",
    "import seaborn as sns\n",
    "import matplotlib as mpl"
   ]
  },
  {
   "cell_type": "code",
   "execution_count": 3,
   "id": "f848616e-4182-48b9-88fa-acd0f2cb131d",
   "metadata": {},
   "outputs": [],
   "source": [
    "apple_vintage = {\n",
    "    \"green\": \"#5ebd3e\",\n",
    "    \"yellow\": \"#ffb900\",\n",
    "    \"orange\": \"#f78200\",\n",
    "    \"red\": \"#e23838\",\n",
    "    \"violet\": \"#973999\",\n",
    "    \"blue\": \"#009cdf\"\n",
    "}"
   ]
  },
  {
   "cell_type": "markdown",
   "id": "4133037f-27ad-45b6-a55e-d0930459e656",
   "metadata": {},
   "source": [
    "## HCT116"
   ]
  },
  {
   "cell_type": "code",
   "execution_count": 4,
   "id": "261450a4-baff-404f-bbf2-c17071ea42c4",
   "metadata": {},
   "outputs": [],
   "source": [
    "data = pathlib.Path(\"data/eigs.arrow\").read_bytes()\n",
    "\n",
    "df = pl.read_ipc(data).to_pandas()\n",
    "df[\"name\"] = df[\"name\"].map(lambda x: \"A2\" if x == \"A0\" else \"B4\" if x == \"B2\" else x)\n",
    "axis_fields = [\"E1\", \"E2\", \"E3\", \"E4\", \"E5\", \"E6\"]\n",
    "label_colors = {\"A1\": apple_vintage[\"red\"], \"A2\": apple_vintage[\"yellow\"], \"B0\": apple_vintage[\"green\"], \"B1\": apple_vintage[\"blue\"], \"B4\": apple_vintage[\"violet\"]}\n",
    "label_field = \"name\"\n",
    "\n",
    "scale = 100 / np.linalg.norm(df[\"E1\"])\n",
    "df[axis_fields] *= scale"
   ]
  },
  {
   "cell_type": "code",
   "execution_count": 5,
   "id": "9653616e-a1c3-4b5c-a585-84c85a33172b",
   "metadata": {},
   "outputs": [
    {
     "data": {
      "application/vnd.jupyter.widget-view+json": {
       "model_id": "9ba6f7fd3f4a41f5a909b8abd3e1721e",
       "version_major": 2,
       "version_minor": 0
      },
      "text/plain": [
       "Widget(axis_fields=['E1', 'E2', 'E3', 'E4', 'E5', 'E6'], data=b'ARROW1\\x00\\x00\\xff\\xff\\xff\\xff@\\x06\\x00\\x00\\x1…"
      ]
     },
     "execution_count": 5,
     "metadata": {},
     "output_type": "execute_result"
    }
   ],
   "source": [
    "Widget(\n",
    "    df=df, \n",
    "    axis_fields=axis_fields,\n",
    "    label_field=label_field, \n",
    "    label_colors=label_colors\n",
    ")"
   ]
  },
  {
   "cell_type": "code",
   "execution_count": null,
   "id": "d7ff2d8e-6280-409c-8eec-990ade9e6265",
   "metadata": {},
   "outputs": [],
   "source": []
  },
  {
   "cell_type": "code",
   "execution_count": null,
   "id": "4163b846-6f94-4bb3-8db4-dd629474f4b1",
   "metadata": {},
   "outputs": [],
   "source": []
  },
  {
   "cell_type": "code",
   "execution_count": null,
   "id": "529f8582-4dda-4fe8-81ba-f55f3e5884f7",
   "metadata": {},
   "outputs": [],
   "source": []
  },
  {
   "cell_type": "code",
   "execution_count": null,
   "id": "420140b1-70c0-42a9-8a80-a38b18f5d065",
   "metadata": {},
   "outputs": [],
   "source": []
  }
 ],
 "metadata": {
  "kernelspec": {
   "display_name": "Python 3 (ipykernel)",
   "language": "python",
   "name": "python3"
  },
  "language_info": {
   "codemirror_mode": {
    "name": "ipython",
    "version": 3
   },
   "file_extension": ".py",
   "mimetype": "text/x-python",
   "name": "python",
   "nbconvert_exporter": "python",
   "pygments_lexer": "ipython3",
   "version": "3.12.2"
  },
  "widgets": {
   "application/vnd.jupyter.widget-state+json": {
    "state": {},
    "version_major": 2,
    "version_minor": 0
   }
  }
 },
 "nbformat": 4,
 "nbformat_minor": 5
}
