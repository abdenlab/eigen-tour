{
 "cells": [
  {
   "cell_type": "code",
   "execution_count": null,
   "id": "a6d50740-1061-42ff-9fd1-18f234f5cab0",
   "metadata": {},
   "outputs": [],
   "source": [
    "from eigen_tour import Widget\n",
    "import pathlib"
   ]
  },
  {
   "cell_type": "code",
   "execution_count": null,
   "id": "261450a4-baff-404f-bbf2-c17071ea42c4",
   "metadata": {},
   "outputs": [],
   "source": [
    "data = pathlib.Path(\"data/eigs.arrow\").read_bytes()"
   ]
  },
  {
   "cell_type": "code",
   "execution_count": null,
   "id": "9653616e-a1c3-4b5c-a585-84c85a33172b",
   "metadata": {},
   "outputs": [],
   "source": [
    "Widget(data=data)"
   ]
  },
  {
   "cell_type": "code",
   "execution_count": null,
   "id": "297f032e-8f93-46b8-933c-6b0a5753a1c1",
   "metadata": {},
   "outputs": [],
   "source": []
  },
  {
   "cell_type": "code",
   "execution_count": null,
   "id": "25640dcd-bdbb-49e6-9c13-400f3ba2ee90",
   "metadata": {},
   "outputs": [],
   "source": []
  }
 ],
 "metadata": {
  "kernelspec": {
   "display_name": "Python 3 (ipykernel)",
   "language": "python",
   "name": "python3"
  },
  "language_info": {
   "codemirror_mode": {
    "name": "ipython",
    "version": 3
   },
   "file_extension": ".py",
   "mimetype": "text/x-python",
   "name": "python",
   "nbconvert_exporter": "python",
   "pygments_lexer": "ipython3",
   "version": "3.12.2"
  },
  "widgets": {
   "application/vnd.jupyter.widget-state+json": {
    "state": {},
    "version_major": 2,
    "version_minor": 0
   }
  }
 },
 "nbformat": 4,
 "nbformat_minor": 5
}
